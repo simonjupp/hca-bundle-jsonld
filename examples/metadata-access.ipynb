{
 "cells": [
  {
   "cell_type": "markdown",
   "metadata": {
    "collapsed": true
   },
   "source": [
    "# Metadata access with JSON-LD example\n",
    "\n",
    "This is a demonstartion of how you can use JSON-LD to standardise the presentation of metadata that is independent of how the data is serialised in a JSON document. \n",
    "\n",
    "For an intro to JSON-LD see here https://json-ld.org. If you thought the Semantic Web is just some academic fantasy, check out how all the search engines use JSON-LD to extract metadata from the web to build their knowledge graphs https://developers.google.com/search/docs/guides/intro-structured-data. JSON-LD essentially gives you a mechanisms to assign semantics to concepts in a JSON document. We can use ontologies as a mechanism to precisely define those semantics. \n",
    "\n",
    "Let’s take \"Organ\" as a concept. We know that in HCA this is an important concept. Despite all the revisions of the HCA schema, the concept of organ has remained the same, even if where it sits in a JSON hierarchy or which schema was defined in has changed. JSON-LD gives us a mechanism to describe a concept like “Organ” independently of how we choose to represent it in a JSON document. Another way to think about it is that we can assign stable ids to fields in the schema, the field names may change even when the concept id stays the same. \n",
    "\n",
    "Here’s some examples. We use a new reserved JSON-LD keyword to define a context for our JSON. The context is used to map fields to ontology terms. Here was say organ maps to the UBERON ontology concept for organ. Here’s a simplified bit of sample json. "
   ]
  },
  {
   "cell_type": "code",
   "execution_count": null,
   "metadata": {},
   "outputs": [],
   "source": [
    "sample_v1 = {\n",
    "\"@context\" : {\n",
    "   \"organ\" : \"http://purl.obolibrary.org/obo/UBERON_0000062\"\n",
    " },\n",
    " \"biomaterial_id\": \"Specimen_PBMC2\",\n",
    " \"ncbi_taxon_id\": 9606,\n",
    " \"organ\": \"blood\"\n",
    "}\n"
   ]
  },
  {
   "cell_type": "markdown",
   "metadata": {},
   "source": [
    "I can use a standard JSON-LD query language called SPARQL to extract the value out of this JSON document based on the ontology and not the field name. Here’s my SPARQL query "
   ]
  },
  {
   "cell_type": "code",
   "execution_count": null,
   "metadata": {},
   "outputs": [],
   "source": [
    "get_organ_query = \"SELECT ?organ WHERE { ?s <http://purl.obolibrary.org/obo/UBERON_0000062> ?organ}\""
   ]
  },
  {
   "cell_type": "markdown",
   "metadata": {},
   "source": [
    "\n",
    "We use the RDFlib package to load the JSON-JD and query it. "
   ]
  },
  {
   "cell_type": "code",
   "execution_count": null,
   "metadata": {},
   "outputs": [],
   "source": [
    "from rdflib.plugin import register, Parser\n",
    "from rdflib import Graph, ConjunctiveGraph\n",
    "import json\n",
    "\n",
    "register('application/ld+json', Parser, 'rdflib_jsonld.parser', 'JsonLDParser')\n",
    "\n",
    "graph = ConjunctiveGraph()\n",
    "\n",
    "graph.parse(data=json.dumps(sample_v1), format=\"json-ld\")\n",
    "\n",
    "qres = graph.query(get_organ_query)\n",
    "\n",
    "for row in qres:\n",
    "    print(\"%s\" % row)"
   ]
  },
  {
   "cell_type": "markdown",
   "metadata": {},
   "source": [
    "This returns “blood” as a value. \n",
    "\n",
    "Now let’s consider a new version of samples where we moved the field. Here’s we’ve nested it and put the value in a field called text, much like it is in the HCA schema. "
   ]
  },
  {
   "cell_type": "code",
   "execution_count": null,
   "metadata": {},
   "outputs": [],
   "source": [
    "sample_v2 = {\n",
    " \"@context\" : {\n",
    "    \"organ\" : \"@nest\",\n",
    "    \"text\" : \"http://purl.obolibrary.org/obo/UBERON_0000062\"\n",
    "  },\n",
    "  \"biomaterial_id\": \"Specimen_PBMC2\",\n",
    "  \"ncbi_taxon_id\": 9606,\n",
    "  \"organ\": {\n",
    "   \"text\" : \"blood\"\n",
    "  }\n",
    "}"
   ]
  },
  {
   "cell_type": "markdown",
   "metadata": {},
   "source": [
    "Now the structure of the documents has changed and we’ve updated the context to reflect that. However, I can execute exactly the same query on this document by asking for the “organ” concept. "
   ]
  },
  {
   "cell_type": "code",
   "execution_count": null,
   "metadata": {},
   "outputs": [],
   "source": [
    "graph = ConjunctiveGraph()\n",
    "\n",
    "graph.parse(data=json.dumps(sample_v2), format=\"json-ld\")\n",
    "\n",
    "qres = graph.query(\"SELECT ?organ WHERE { ?s <http://purl.obolibrary.org/obo/UBERON_0000062> ?organ}\")\n",
    "\n",
    "for row in qres:\n",
    "    print(\"%s\" % row)"
   ]
  },
  {
   "cell_type": "markdown",
   "metadata": {},
   "source": [
    "This return “blood” as before. This shows how JSON-LD can provide a consistent way to access concepts in our metadata schema without consumers having to be bothered with how it is structure in JSON. We can rearrange the JSON, whilst preserving the semantics. "
   ]
  }
 ],
 "metadata": {
  "kernelspec": {
   "display_name": "Python 2",
   "language": "python",
   "name": "python2"
  },
  "language_info": {
   "codemirror_mode": {
    "name": "ipython",
    "version": 2
   },
   "file_extension": ".py",
   "mimetype": "text/x-python",
   "name": "python",
   "nbconvert_exporter": "python",
   "pygments_lexer": "ipython2",
   "version": "2.7.6"
  }
 },
 "nbformat": 4,
 "nbformat_minor": 0
}
